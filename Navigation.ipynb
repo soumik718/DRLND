{
 "cells": [
  {
   "cell_type": "markdown",
   "metadata": {},
   "source": [
    "# Navigation\n",
    "\n",
    "---\n",
    "\n",
    "You are welcome to use this coding environment to train your agent for the project.  Follow the instructions below to get started!\n",
    "\n",
    "### 1. Start the Environment\n",
    "\n",
    "Run the next code cell to install a few packages.  This line will take a few minutes to run!"
   ]
  },
  {
   "cell_type": "code",
   "execution_count": 1,
   "metadata": {},
   "outputs": [
    {
     "name": "stdout",
     "output_type": "stream",
     "text": [
      "\u001b[31mtensorflow 1.7.1 has requirement numpy>=1.13.3, but you'll have numpy 1.12.1 which is incompatible.\u001b[0m\r\n",
      "\u001b[31mipython 6.5.0 has requirement prompt-toolkit<2.0.0,>=1.0.15, but you'll have prompt-toolkit 3.0.5 which is incompatible.\u001b[0m\r\n"
     ]
    }
   ],
   "source": [
    "!pip -q install ./python"
   ]
  },
  {
   "cell_type": "markdown",
   "metadata": {},
   "source": [
    "The environment is already saved in the Workspace and can be accessed at the file path provided below.  Please run the next code cell without making any changes."
   ]
  },
  {
   "cell_type": "code",
   "execution_count": 2,
   "metadata": {},
   "outputs": [
    {
     "name": "stderr",
     "output_type": "stream",
     "text": [
      "INFO:unityagents:\n",
      "'Academy' started successfully!\n",
      "Unity Academy name: Academy\n",
      "        Number of Brains: 1\n",
      "        Number of External Brains : 1\n",
      "        Lesson number : 0\n",
      "        Reset Parameters :\n",
      "\t\t\n",
      "Unity brain name: BananaBrain\n",
      "        Number of Visual Observations (per agent): 0\n",
      "        Vector Observation space type: continuous\n",
      "        Vector Observation space size (per agent): 37\n",
      "        Number of stacked Vector Observation: 1\n",
      "        Vector Action space type: discrete\n",
      "        Vector Action space size (per agent): 4\n",
      "        Vector Action descriptions: , , , \n"
     ]
    }
   ],
   "source": [
    "from unityagents import UnityEnvironment\n",
    "import numpy as np\n",
    "\n",
    "# please do not modify the line below\n",
    "env = UnityEnvironment(file_name=\"/data/Banana_Linux_NoVis/Banana.x86_64\")"
   ]
  },
  {
   "cell_type": "markdown",
   "metadata": {},
   "source": [
    "Environments contain **_brains_** which are responsible for deciding the actions of their associated agents. Here we check for the first brain available, and set it as the default brain we will be controlling from Python."
   ]
  },
  {
   "cell_type": "code",
   "execution_count": 3,
   "metadata": {},
   "outputs": [],
   "source": [
    "# get the default brain\n",
    "brain_name = env.brain_names[0]\n",
    "brain = env.brains[brain_name]"
   ]
  },
  {
   "cell_type": "markdown",
   "metadata": {},
   "source": [
    "### 2. Examine the State and Action Spaces\n",
    "\n",
    "Run the code cell below to print some information about the environment."
   ]
  },
  {
   "cell_type": "code",
   "execution_count": 4,
   "metadata": {},
   "outputs": [
    {
     "name": "stdout",
     "output_type": "stream",
     "text": [
      "Number of agents: 1\n",
      "Number of actions: 4\n",
      "States look like: [ 1.          0.          0.          0.          0.84408134  0.          0.\n",
      "  1.          0.          0.0748472   0.          1.          0.          0.\n",
      "  0.25755     1.          0.          0.          0.          0.74177343\n",
      "  0.          1.          0.          0.          0.25854847  0.          0.\n",
      "  1.          0.          0.09355672  0.          1.          0.          0.\n",
      "  0.31969345  0.          0.        ]\n",
      "States have length: 37\n"
     ]
    }
   ],
   "source": [
    "# reset the environment\n",
    "env_info = env.reset(train_mode=True)[brain_name]\n",
    "\n",
    "# number of agents in the environment\n",
    "print('Number of agents:', len(env_info.agents))\n",
    "\n",
    "# number of actions\n",
    "action_size = brain.vector_action_space_size\n",
    "print('Number of actions:', action_size)\n",
    "\n",
    "# examine the state space \n",
    "state = env_info.vector_observations[0]\n",
    "print('States look like:', state)\n",
    "state_size = len(state)\n",
    "print('States have length:', state_size)"
   ]
  },
  {
   "cell_type": "markdown",
   "metadata": {},
   "source": [
    "### 3. Take Random Actions in the Environment\n",
    "\n",
    "In the next code cell, you will learn how to use the Python API to control the agent and receive feedback from the environment.\n",
    "\n",
    "Note that **in this coding environment, you will not be able to watch the agent while it is training**, and you should set `train_mode=True` to restart the environment."
   ]
  },
  {
   "cell_type": "code",
   "execution_count": 5,
   "metadata": {},
   "outputs": [
    {
     "name": "stdout",
     "output_type": "stream",
     "text": [
      "Score: 0.0\n"
     ]
    }
   ],
   "source": [
    "env_info = env.reset(train_mode=True)[brain_name] # reset the environment\n",
    "state = env_info.vector_observations[0]            # get the current state\n",
    "score = 0                                          # initialize the score\n",
    "while True:\n",
    "    action = np.random.randint(action_size)        # select an action\n",
    "    env_info = env.step(action)[brain_name]        # send the action to the environment\n",
    "    next_state = env_info.vector_observations[0]   # get the next state\n",
    "    reward = env_info.rewards[0]                   # get the reward\n",
    "    done = env_info.local_done[0]                  # see if episode has finished\n",
    "    score += reward                                # update the score\n",
    "    state = next_state                             # roll over the state to next time step\n",
    "    if done:                                       # exit loop if episode finished\n",
    "        break\n",
    "    \n",
    "print(\"Score: {}\".format(score))"
   ]
  },
  {
   "cell_type": "markdown",
   "metadata": {},
   "source": [
    "When finished, you can close the environment."
   ]
  },
  {
   "cell_type": "code",
   "execution_count": 6,
   "metadata": {},
   "outputs": [],
   "source": [
    "#env.close()"
   ]
  },
  {
   "cell_type": "markdown",
   "metadata": {},
   "source": [
    "### 4. It's Your Turn!\n",
    "\n",
    "Now it's your turn to train your own agent to solve the environment!  A few **important notes**:\n",
    "- When training the environment, set `train_mode=True`, so that the line for resetting the environment looks like the following:\n",
    "```python\n",
    "env_info = env.reset(train_mode=True)[brain_name]\n",
    "```\n",
    "- To structure your work, you're welcome to work directly in this Jupyter notebook, or you might like to start over with a new file!  You can see the list of files in the workspace by clicking on **_Jupyter_** in the top left corner of the notebook.\n",
    "- In this coding environment, you will not be able to watch the agent while it is training.  However, **_after training the agent_**, you can download the saved model weights to watch the agent on your own machine! "
   ]
  },
  {
   "cell_type": "code",
   "execution_count": 7,
   "metadata": {},
   "outputs": [],
   "source": [
    "import random\n",
    "from collections import namedtuple, deque\n",
    "import time\n",
    "import matplotlib.pyplot as plt\n",
    "import torch\n",
    "%matplotlib inline\n",
    "\n",
    "# Add-on : Set plotting options\n",
    "plt.style.use('ggplot')\n",
    "np.set_printoptions(precision=3, linewidth=120)\n",
    "# Add-on : Hide Matplotlib deprecate warnings\n",
    "import warnings\n",
    "warnings.filterwarnings(\"ignore\")\n",
    "\n",
    "\n",
    "# High resolution plot outputs for retina display\n",
    "%config InlineBackend.figure_format = 'retina'\n",
    "\n",
    "# Import Agent Class and Initialize \n",
    "# Import DQN Agent\n",
    "'''\n",
    "from ddqn_agent import Agent\n",
    "agent = Agent(state_size=37, action_size=4, seed=42)\n",
    "save_trained_agent_path = 'checkpoint_dqn'\n",
    "'''\n",
    "# Import DDQN Agent\n",
    "'''\n",
    "from ddqn_agent import DDQN_Agent\n",
    "agent = DDQN_Agent(state_size=37, action_size=4, seed=42)\n",
    "save_trained_agent_path = 'checkpoint_ddqn'\n",
    "'''\n",
    "# Import Prioritized DQN Agent\n",
    "from dqn_per_agent import DQN_PER_Agent\n",
    "agent = DQN_PER_Agent(state_size=37, action_size=4, seed=42)\n",
    "save_trained_agent_path = 'checkpoint_dqn_per'"
   ]
  },
  {
   "cell_type": "code",
   "execution_count": 8,
   "metadata": {},
   "outputs": [
    {
     "data": {
      "text/plain": [
       "'\\nstart_time = time.time() # Monitor Training Time  \\nscores = dqn(n_episodes=2000, max_t=1000, eps_start=1.0, eps_end=0.01, eps_decay=0.995)\\nprint(\"\\nTotal Training time = {:.1f} min\".format((time.time()-start_time)/60))\\n'"
      ]
     },
     "execution_count": 8,
     "metadata": {},
     "output_type": "execute_result"
    }
   ],
   "source": [
    "# Deep Q-Learning function\n",
    "def dqn(n_episodes=2000, max_t=1000, eps_start=1.0, eps_end=0.01, eps_decay=0.995):\n",
    "    \"\"\"Deep Q-Learning.\n",
    "    \n",
    "    Params\n",
    "    ======\n",
    "        n_episodes (int): maximum number of training episodes\n",
    "        max_t (int): maximum number of timesteps per episode\n",
    "        eps_start (float): starting value of epsilon, for epsilon-greedy action selection\n",
    "        eps_end (float): minimum value of epsilon\n",
    "        eps_decay (float): multiplicative factor (per episode) for decreasing epsilon\n",
    "    \"\"\"\n",
    "    scores = []                        # list containing scores from each episode\n",
    "    scores_window = deque(maxlen=100)  # last 100 scores\n",
    "    eps = eps_start                    # initialize epsilon\n",
    "    for i_episode in range(1, n_episodes+1):\n",
    "        \n",
    "        env_info = env.reset(train_mode=True)[brain_name]  # reset the environment\n",
    "        state = env_info.vector_observations[0]            # get the current state\n",
    "\n",
    "        score = 0\n",
    "        for t in range(max_t):           \n",
    "            #action = np.random.randint(action_size)        # select an action\n",
    "            action = agent.act(state, eps)\n",
    "            env_info = env.step(action)[brain_name]        # send the action to the environment\n",
    "            next_state = env_info.vector_observations[0]   # get the next state\n",
    "            reward = env_info.rewards[0]                   # get the reward\n",
    "            done = env_info.local_done[0]                  # see if episode has finished\n",
    "            \n",
    "            agent.step(state, action, reward, next_state, done)\n",
    "            state = next_state\n",
    "            score += reward\n",
    "            if done:\n",
    "                break \n",
    "        scores_window.append(score)       # save most recent score\n",
    "        scores.append(score)              # save most recent score\n",
    "        eps = max(eps_end, eps_decay*eps) # decrease epsilon\n",
    "        \n",
    "        tr_save_check = 13 # Threshold score for model parameter save \n",
    "        print('\\rEpisode {}\\tAverage Score: {:.2f}'.format(i_episode, np.mean(scores_window)), end=\"\")\n",
    "        if i_episode % 100 == 0:\n",
    "            print('\\rEpisode {}\\tAverage Score: {:.2f}'.format(i_episode, np.mean(scores_window)))\n",
    "        if np.mean(scores_window)>=tr_save_check:\n",
    "            #print('\\nEnvironment solved in {:d} episodes!\\tAverage Score: {:.2f}'.format(i_episode-100, np.mean(scores_window)))\n",
    "            torch.save(agent.qnetwork_local.state_dict(), save_trained_agent_path + '_{}.pth'.format(tr_save_check))\n",
    "            #break\n",
    "    torch.save(agent.qnetwork_local.state_dict(), save_trained_agent_path + '_final.pth') # final model parameter save\n",
    "    return scores\n",
    "\n",
    "\n",
    "# Train the agent using DQN\n",
    "'''\n",
    "start_time = time.time() # Monitor Training Time  \n",
    "scores = dqn(n_episodes=2000, max_t=1000, eps_start=1.0, eps_end=0.01, eps_decay=0.995)\n",
    "print(\"\\nTotal Training time = {:.1f} min\".format((time.time()-start_time)/60))\n",
    "'''"
   ]
  },
  {
   "cell_type": "code",
   "execution_count": 9,
   "metadata": {},
   "outputs": [
    {
     "data": {
      "text/plain": [
       "\"\\nfig = plt.figure(figsize=(8,8))\\nax = fig.add_subplot(111)\\nplt.plot(np.arange(len(scores)), scores)\\nplt.title('Score (Rewards)')\\nplt.ylabel('Score')\\nplt.xlabel('Episode #')\\nplt.grid(True)      \\nplt.show()\\n\""
      ]
     },
     "execution_count": 9,
     "metadata": {},
     "output_type": "execute_result"
    }
   ],
   "source": [
    "# plot the scores\n",
    "'''\n",
    "fig = plt.figure(figsize=(8,8))\n",
    "ax = fig.add_subplot(111)\n",
    "plt.plot(np.arange(len(scores)), scores)\n",
    "plt.title('Score (Rewards)')\n",
    "plt.ylabel('Score')\n",
    "plt.xlabel('Episode #')\n",
    "plt.grid(True)      \n",
    "plt.show()\n",
    "'''"
   ]
  },
  {
   "cell_type": "markdown",
   "metadata": {},
   "source": [
    "### 5. Evaluate the trained Agent"
   ]
  },
  {
   "cell_type": "code",
   "execution_count": 10,
   "metadata": {},
   "outputs": [
    {
     "name": "stdout",
     "output_type": "stream",
     "text": [
      "Episode 1: 21.0\n",
      "Episode 2: 17.0\n",
      "Episode 3: 18.0\n",
      "Episode 4: 20.0\n",
      "Episode 5: 19.0\n",
      "Episode 6: 14.0\n",
      "Episode 7: 18.0\n",
      "Episode 8: 16.0\n",
      "Episode 9: 14.0\n",
      "Episode 10: 14.0\n",
      "Episode 11: 6.0\n",
      "Episode 12: 22.0\n",
      "Episode 13: 22.0\n",
      "Episode 14: 20.0\n",
      "Episode 15: 14.0\n",
      "Episode 16: 13.0\n",
      "Episode 17: 18.0\n",
      "Episode 18: 20.0\n",
      "Episode 19: 18.0\n",
      "Episode 20: 15.0\n",
      "Episode 21: 15.0\n",
      "Episode 22: 4.0\n",
      "Episode 23: 20.0\n",
      "Episode 24: 15.0\n",
      "Episode 25: 11.0\n",
      "Episode 26: 16.0\n",
      "Episode 27: 15.0\n",
      "Episode 28: 12.0\n",
      "Episode 29: 19.0\n",
      "Episode 30: 15.0\n",
      "Episode 31: 20.0\n",
      "Episode 32: 15.0\n",
      "Episode 33: 16.0\n",
      "Episode 34: 18.0\n",
      "Episode 35: 16.0\n",
      "Episode 36: 18.0\n",
      "Episode 37: 17.0\n",
      "Episode 38: 20.0\n",
      "Episode 39: 19.0\n",
      "Episode 40: 3.0\n",
      "Episode 41: 11.0\n",
      "Episode 42: 16.0\n",
      "Episode 43: 7.0\n",
      "Episode 44: 21.0\n",
      "Episode 45: 16.0\n",
      "Episode 46: 8.0\n",
      "Episode 47: 12.0\n",
      "Episode 48: 16.0\n",
      "Episode 49: 7.0\n",
      "Episode 50: 14.0\n",
      "Episode 51: 9.0\n",
      "Episode 52: 15.0\n",
      "Episode 53: 12.0\n",
      "Episode 54: 13.0\n",
      "Episode 55: 18.0\n",
      "Episode 56: 13.0\n",
      "Episode 57: 13.0\n",
      "Episode 58: 11.0\n",
      "Episode 59: 18.0\n",
      "Episode 60: 15.0\n",
      "Episode 61: 16.0\n",
      "Episode 62: 21.0\n",
      "Episode 63: 17.0\n",
      "Episode 64: 5.0\n",
      "Episode 65: 12.0\n",
      "Episode 66: 10.0\n",
      "Episode 67: 16.0\n",
      "Episode 68: 18.0\n",
      "Episode 69: 6.0\n",
      "Episode 70: 12.0\n",
      "Episode 71: 11.0\n",
      "Episode 72: 16.0\n",
      "Episode 73: 5.0\n",
      "Episode 74: 13.0\n",
      "Episode 75: 14.0\n",
      "Episode 76: 13.0\n",
      "Episode 77: 16.0\n",
      "Episode 78: 14.0\n",
      "Episode 79: 12.0\n",
      "Episode 80: 0.0\n",
      "Episode 81: 12.0\n",
      "Episode 82: 12.0\n",
      "Episode 83: 11.0\n",
      "Episode 84: 15.0\n",
      "Episode 85: 16.0\n",
      "Episode 86: 17.0\n",
      "Episode 87: 15.0\n",
      "Episode 88: 10.0\n",
      "Episode 89: 3.0\n",
      "Episode 90: 12.0\n",
      "Episode 91: 9.0\n",
      "Episode 92: 15.0\n",
      "Episode 93: 15.0\n",
      "Episode 94: 13.0\n",
      "Episode 95: 10.0\n",
      "Episode 96: 16.0\n",
      "Episode 97: 22.0\n",
      "Episode 98: 13.0\n",
      "Episode 99: 10.0\n",
      "Episode 100: 25.0\n",
      "All the scores[21.0, 17.0, 18.0, 20.0, 19.0, 14.0, 18.0, 16.0, 14.0, 14.0, 6.0, 22.0, 22.0, 20.0, 14.0, 13.0, 18.0, 20.0, 18.0, 15.0, 15.0, 4.0, 20.0, 15.0, 11.0, 16.0, 15.0, 12.0, 19.0, 15.0, 20.0, 15.0, 16.0, 18.0, 16.0, 18.0, 17.0, 20.0, 19.0, 3.0, 11.0, 16.0, 7.0, 21.0, 16.0, 8.0, 12.0, 16.0, 7.0, 14.0, 9.0, 15.0, 12.0, 13.0, 18.0, 13.0, 13.0, 11.0, 18.0, 15.0, 16.0, 21.0, 17.0, 5.0, 12.0, 10.0, 16.0, 18.0, 6.0, 12.0, 11.0, 16.0, 5.0, 13.0, 14.0, 13.0, 16.0, 14.0, 12.0, 0.0, 12.0, 12.0, 11.0, 15.0, 16.0, 17.0, 15.0, 10.0, 3.0, 12.0, 9.0, 15.0, 15.0, 13.0, 10.0, 16.0, 22.0, 13.0, 10.0, 25.0]\n",
      "Mean Score: 14.26\n"
     ]
    }
   ],
   "source": [
    "agent.qnetwork_local.load_state_dict(torch.load(save_trained_agent_path + '_13.pth')) # load trained agent parameters\n",
    "\n",
    "num_episodes = 100\n",
    "scores = []\n",
    "final_eps=0.01\n",
    "for i_episode in range(1,num_episodes+1):\n",
    "    env_info = env.reset(train_mode=False)[brain_name] # reset the environment\n",
    "    state = env_info.vector_observations[0]            # get the current state\n",
    "    score = 0                                          # initialize the score\n",
    "    while True:\n",
    "        action = agent.act(state, eps=final_eps)        # select an action\n",
    "        env_info = env.step(action)[brain_name]        # send the action to the environment\n",
    "        next_state = env_info.vector_observations[0]   # get the next state\n",
    "        reward = env_info.rewards[0]                   # get the reward\n",
    "        done = env_info.local_done[0]                  # see if episode has finished\n",
    "        #agent.step(state, action, reward, next_state, done) #do the learning\n",
    "\n",
    "        score += reward                                # update the score\n",
    "        state = next_state                             # roll over the state to next time step\n",
    "        if done:                                       # exit loop if episode finished\n",
    "            print('Episode {}: {}'. format(i_episode, score))\n",
    "            scores.append(score)\n",
    "            break\n",
    "\n",
    "print('All the scores{}'.format(scores))\n",
    "print(\"Mean Score: {}\".format(np.mean(scores)))"
   ]
  },
  {
   "cell_type": "code",
   "execution_count": 11,
   "metadata": {},
   "outputs": [],
   "source": [
    "env.close()"
   ]
  }
 ],
 "metadata": {
  "kernelspec": {
   "display_name": "Python 3",
   "language": "python",
   "name": "python3"
  },
  "language_info": {
   "codemirror_mode": {
    "name": "ipython",
    "version": 3
   },
   "file_extension": ".py",
   "mimetype": "text/x-python",
   "name": "python",
   "nbconvert_exporter": "python",
   "pygments_lexer": "ipython3",
   "version": "3.6.3"
  }
 },
 "nbformat": 4,
 "nbformat_minor": 2
}
